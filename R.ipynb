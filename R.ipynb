{
  "nbformat": 4,
  "nbformat_minor": 0,
  "metadata": {
    "colab": {
      "provenance": []
    },
    "kernelspec": {
      "name": "python3",
      "display_name": "Python 3"
    },
    "language_info": {
      "name": "python"
    }
  },
  "cells": [
    {
      "cell_type": "code",
      "execution_count": null,
      "metadata": {
        "id": "VkYkjtKNR8LQ"
      },
      "outputs": [],
      "source": [
        "pip install rpy2\n"
      ]
    },
    {
      "cell_type": "code",
      "source": [
        "%load_ext rpy2.ipython"
      ],
      "metadata": {
        "id": "bOvXGbB1TmdW"
      },
      "execution_count": 6,
      "outputs": []
    },
    {
      "cell_type": "code",
      "source": [
        "%%R\n",
        "power <- function(x,y)\n",
        "{\n",
        "    z = 1\n",
        "    while(y > 0)\n",
        "    {\n",
        "        z = z * x\n",
        "        y = y - 1\n",
        "    }\n",
        "    print(z)\n",
        "}\n",
        "\n",
        "power(2,2)\n",
        "power(2,3)\n",
        "power(2,4)\n",
        "power(2,5)"
      ],
      "metadata": {
        "colab": {
          "base_uri": "https://localhost:8080/"
        },
        "id": "_K5w9sqvSM-f",
        "outputId": "f477a7b7-eeaf-42a1-ef68-3902563b63d9"
      },
      "execution_count": 13,
      "outputs": [
        {
          "output_type": "stream",
          "name": "stdout",
          "text": [
            "[1] 4\n",
            "[1] 8\n",
            "[1] 16\n",
            "[1] 32\n"
          ]
        }
      ]
    },
    {
      "cell_type": "code",
      "source": [
        "%%R\n",
        "sum <- function(array1,sze)\n",
        "{\n",
        "    for(i in 2:sze)\n",
        "    {\n",
        "        array1[i] = array1[i-1] + array1[i]\n",
        "    }\n",
        "    for(i in 1:sze)\n",
        "    {\n",
        "        print(array1[i])\n",
        "    }\n",
        "}\n",
        "\n",
        "array1 <- c(0.2,0.3,0.4,0.1)\n",
        "\n",
        "sum(array1,4)"
      ],
      "metadata": {
        "colab": {
          "base_uri": "https://localhost:8080/"
        },
        "id": "jJH6WsDOTqo-",
        "outputId": "eb11793c-9ea7-47d7-9fab-f757a5b32dda"
      },
      "execution_count": 23,
      "outputs": [
        {
          "output_type": "stream",
          "name": "stdout",
          "text": [
            "[1] 0.2\n",
            "[1] 0.5\n",
            "[1] 0.9\n",
            "[1] 1\n"
          ]
        }
      ]
    },
    {
      "cell_type": "code",
      "source": [
        "%%R\n",
        "counter <- function(string)\n",
        "{\n",
        "    size = nchar(string)\n",
        "\n",
        "\n",
        "    stringbreak <- strsplit(string, \"\")[[1]]\n",
        "\n",
        "    lowercase = 0\n",
        "\n",
        "    uppcase = 0\n",
        "\n",
        "\n",
        "    tot = 0\n",
        "\n",
        "    space = 0\n",
        "\n",
        "\n",
        "\n",
        "    for(i in stringbreak)\n",
        "    {\n",
        "        if(i == 'a' || i == 'b' || i == 'c' || i == 'd' || i == 'e' || i == 'f' || i == 'g' || i == 'h' || i == 'i' || i == 'j' || i == 'k' || i == 'l' || i == 'm' || i == 'n' || i == 'o' || i == 'p' || i == 'q' || i == 'r' || i == 's' || i == 't' || i == 'u' || i == 'v' || i == 'w' || i == 'x' || i == 'y' || i == 'z')\n",
        "        {\n",
        "            lowercase = lowercase + 1\n",
        "        }\n",
        "        else if(i == 'A' || i == 'B' || i == 'C' || i == 'D' || i == 'E' ||i == 'F' || i == 'G' || i == 'H' || i == 'I' || i == 'J' || i == 'K' || i == 'L' || i == 'M' || i == 'N' || i == 'O' || i == 'P' || i == 'Q' || i == 'R' || i == 'S' || i == 'T' || i == 'U' || i == 'V' || i == 'W' || i == 'X' || i == 'Y' || i == 'Z')\n",
        "        {\n",
        "            uppcase = uppcase + 1\n",
        "        }\n",
        "        else if(i == ' ')\n",
        "        {\n",
        "            space = space + 1\n",
        "        }\n",
        "        else\n",
        "         {\n",
        "            next\n",
        "        }\n",
        "    }\n",
        "    tot = lowercase + uppcase\n",
        "\n",
        "    print(tot)\n",
        "\n",
        "    print(uppcase)\n",
        "\n",
        "    print(lowercase)\n",
        "\n",
        "    print(space)\n",
        "}\n",
        "stri = 'cute little fox went on hunting'\n",
        "counter(stri)"
      ],
      "metadata": {
        "colab": {
          "base_uri": "https://localhost:8080/"
        },
        "id": "anTS7yvIVExw",
        "outputId": "4ecd542c-e9e9-4c7c-9b31-cc5643256ca3"
      },
      "execution_count": 34,
      "outputs": [
        {
          "output_type": "stream",
          "name": "stdout",
          "text": [
            "[1] 26\n",
            "[1] 0\n",
            "[1] 26\n",
            "[1] 5\n"
          ]
        }
      ]
    },
    {
      "cell_type": "code",
      "source": [
        "%%R\n",
        "medi <- function(a,b,n,m){\n",
        "    x <- c()\n",
        "\n",
        "    for(i in 1:n){\n",
        "        x[i] = a[i]\n",
        "    }\n",
        "    for(i in 1:m){\n",
        "\n",
        "                  x[i+n] = b[i]\n",
        "    }\n",
        "\n",
        "    for(i in 1:(length(x)-1)) {\n",
        "\n",
        "\n",
        "      for(j in (i+1):length(x)) {\n",
        "\n",
        "        if(x[i] >= x[j]){\n",
        "          temp = x[i]\n",
        "\n",
        "          x[i] = x[j]\n",
        "\n",
        "          x[j] = temp\n",
        "        }\n",
        "      }\n",
        "    }\n",
        "\n",
        "    med = round(length(x)/2,0)\n",
        "\n",
        "    return(x[med])\n",
        "}\n",
        "a = c(1,3)\n",
        "\n",
        "\n",
        "\n",
        "\n",
        "b = c(2)\n",
        "\n",
        "med = medi(a,b,2,1)\n",
        "print(med)"
      ],
      "metadata": {
        "id": "lUSGVpHFWuUm"
      },
      "execution_count": null,
      "outputs": []
    }
  ]
}
